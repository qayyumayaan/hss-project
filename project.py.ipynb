{
 "cells": [
  {
   "cell_type": "code",
   "execution_count": 11,
   "metadata": {},
   "outputs": [],
   "source": [
    "import psutil\n",
    "import time\n",
    "# import os"
   ]
  },
  {
   "cell_type": "code",
   "execution_count": 12,
   "metadata": {},
   "outputs": [],
   "source": [
    "def list_processes():\n",
    "    # List all current processes\n",
    "    processes = []\n",
    "    for proc in psutil.process_iter(['pid', 'name', 'exe']):\n",
    "        processes.append(proc.info)\n",
    "    return processes\n",
    "\n",
    "processes = list_processes()"
   ]
  },
  {
   "cell_type": "code",
   "execution_count": 13,
   "metadata": {},
   "outputs": [
    {
     "data": {
      "text/plain": [
       "[{'pid': 89377,\n",
       "  'name': 'demo_virus',\n",
       "  'exe': '/Users/qayyuma/Documents/GitHub/hss-project/demo_virus'}]"
      ]
     },
     "execution_count": 13,
     "metadata": {},
     "output_type": "execute_result"
    }
   ],
   "source": [
    "malware_signatures = ['demo_virus', 'badware.exe', 'virus.exe']\n",
    "\n",
    "def check_for_malware(processes, signatures):\n",
    "    threats = []\n",
    "    for process in processes:\n",
    "        if process['name'] in signatures:\n",
    "            threats.append(process)\n",
    "    return threats\n",
    "\n",
    "check_for_malware(processes, malware_signatures)"
   ]
  },
  {
   "cell_type": "code",
   "execution_count": 14,
   "metadata": {},
   "outputs": [],
   "source": [
    "def runner(signatures, check_interval=5):\n",
    "    while True:\n",
    "        processes = list_processes()\n",
    "        threats = check_for_malware(processes, signatures)\n",
    "        if threats:\n",
    "            for threat in threats:\n",
    "                print(f\"Malicious program identified: {threat['name']} with PID {threat['pid']}\")\n",
    "                terminate_process(threat['pid'])\n",
    "        time.sleep(check_interval) \n",
    "        \n",
    "def terminate_process(pid):\n",
    "    try:\n",
    "        p = psutil.Process(pid)\n",
    "        p.terminate()  # Send terminate signal (SIGTERM)\n",
    "        print(f\"Terminated process {pid}\")\n",
    "    except (psutil.NoSuchProcess, psutil.AccessDenied):\n",
    "        print(f\"Could not terminate process {pid}. Access denied or process does not exist.\")"
   ]
  },
  {
   "cell_type": "code",
   "execution_count": 15,
   "metadata": {},
   "outputs": [
    {
     "name": "stdout",
     "output_type": "stream",
     "text": [
      "Malicious program identified: demo_virus with PID 89377\n",
      "Terminated process 89377\n"
     ]
    },
    {
     "ename": "KeyboardInterrupt",
     "evalue": "",
     "output_type": "error",
     "traceback": [
      "\u001b[0;31m---------------------------------------------------------------------------\u001b[0m",
      "\u001b[0;31mKeyboardInterrupt\u001b[0m                         Traceback (most recent call last)",
      "Cell \u001b[0;32mIn[15], line 1\u001b[0m\n\u001b[0;32m----> 1\u001b[0m \u001b[43mrunner\u001b[49m\u001b[43m(\u001b[49m\u001b[43mmalware_signatures\u001b[49m\u001b[43m)\u001b[49m\n",
      "Cell \u001b[0;32mIn[14], line 9\u001b[0m, in \u001b[0;36mrunner\u001b[0;34m(signatures, check_interval)\u001b[0m\n\u001b[1;32m      7\u001b[0m         \u001b[38;5;28mprint\u001b[39m(\u001b[38;5;124mf\u001b[39m\u001b[38;5;124m\"\u001b[39m\u001b[38;5;124mMalicious program identified: \u001b[39m\u001b[38;5;132;01m{\u001b[39;00mthreat[\u001b[38;5;124m'\u001b[39m\u001b[38;5;124mname\u001b[39m\u001b[38;5;124m'\u001b[39m]\u001b[38;5;132;01m}\u001b[39;00m\u001b[38;5;124m with PID \u001b[39m\u001b[38;5;132;01m{\u001b[39;00mthreat[\u001b[38;5;124m'\u001b[39m\u001b[38;5;124mpid\u001b[39m\u001b[38;5;124m'\u001b[39m]\u001b[38;5;132;01m}\u001b[39;00m\u001b[38;5;124m\"\u001b[39m)\n\u001b[1;32m      8\u001b[0m         terminate_process(threat[\u001b[38;5;124m'\u001b[39m\u001b[38;5;124mpid\u001b[39m\u001b[38;5;124m'\u001b[39m])\n\u001b[0;32m----> 9\u001b[0m \u001b[43mtime\u001b[49m\u001b[38;5;241;43m.\u001b[39;49m\u001b[43msleep\u001b[49m\u001b[43m(\u001b[49m\u001b[43mcheck_interval\u001b[49m\u001b[43m)\u001b[49m\n",
      "\u001b[0;31mKeyboardInterrupt\u001b[0m: "
     ]
    }
   ],
   "source": [
    "runner(malware_signatures)"
   ]
  },
  {
   "cell_type": "markdown",
   "metadata": {},
   "source": [
    "This script demonstrates a basic capability for periodic monitoring and action on malicious processes. However, there are ways it can be improved. Better error handling and enhanced logging can help. Real time notifications allow us to  Using VirusTotal's API will allow us to scan all processes against the database. "
   ]
  },
  {
   "cell_type": "code",
   "execution_count": null,
   "metadata": {},
   "outputs": [],
   "source": [
    "import os\n",
    "from dotenv import load_dotenv\n",
    "\n",
    "def import_credentials():\n",
    "    # Check if the cred.env file exists\n",
    "    if not os.path.isfile('projectcreds.env'):\n",
    "        print(\"Error: cred.env file not found.\")\n",
    "        return None\n",
    "    \n",
    "    # Load variables from cred.env file\n",
    "    load_dotenv('projectcreds.env')\n",
    "    \n",
    "    # Return a dictionary containing all the variables\n",
    "    return dict(os.environ)\n",
    "\n",
    "# Test the function\n",
    "credentials = import_credentials()\n",
    "if credentials:\n",
    "    print(\"Imported credentials:\", credentials)\n"
   ]
  },
