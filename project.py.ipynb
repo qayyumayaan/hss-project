{
 "cells": [
  {
   "cell_type": "code",
   "execution_count": 11,
   "metadata": {},
   "outputs": [],
   "source": [
    "import psutil\n",
    "import time\n",
    "# import os"
   ]
  },
  {
   "cell_type": "code",
   "execution_count": 12,
   "metadata": {},
   "outputs": [],
   "source": [
    "def list_processes():\n",
    "    # List all current processes\n",
    "    processes = []\n",
    "    for proc in psutil.process_iter(['pid', 'name', 'exe']):\n",
    "        processes.append(proc.info)\n",
    "    return processes\n",
    "\n",
    "processes = list_processes()"
   ]
  },
