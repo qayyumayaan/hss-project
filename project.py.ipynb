{
 "cells": [
  {
   "cell_type": "code",
   "execution_count": 11,
   "metadata": {},
   "outputs": [],
   "source": [
    "import psutil\n",
    "import time\n",
    "# import os"
   ]
  },
  {
   "cell_type": "code",
   "execution_count": 12,
   "metadata": {},
   "outputs": [],
   "source": [
    "def list_processes():\n",
    "    # List all current processes\n",
    "    processes = []\n",
    "    for proc in psutil.process_iter(['pid', 'name', 'exe']):\n",
    "        processes.append(proc.info)\n",
    "    return processes\n",
    "\n",
    "processes = list_processes()"
   ]
  },
  {
   "cell_type": "code",
   "execution_count": 13,
   "metadata": {},
   "outputs": [
    {
     "data": {
      "text/plain": [
       "[{'pid': 89377,\n",
       "  'name': 'demo_virus',\n",
       "  'exe': '/Users/qayyuma/Documents/GitHub/hss-project/demo_virus'}]"
      ]
     },
     "execution_count": 13,
     "metadata": {},
     "output_type": "execute_result"
    }
   ],
   "source": [
    "malware_signatures = ['demo_virus', 'badware.exe', 'virus.exe']\n",
    "\n",
    "def check_for_malware(processes, signatures):\n",
    "    threats = []\n",
    "    for process in processes:\n",
    "        if process['name'] in signatures:\n",
    "            threats.append(process)\n",
    "    return threats\n",
    "\n",
    "check_for_malware(processes, malware_signatures)"
   ]
  },
  {
   "cell_type": "code",
   "execution_count": 14,
   "metadata": {},
   "outputs": [],
   "source": [
    "def runner(signatures, check_interval=5):\n",
    "    while True:\n",
    "        processes = list_processes()\n",
    "        threats = check_for_malware(processes, signatures)\n",
    "        if threats:\n",
    "            for threat in threats:\n",
    "                print(f\"Malicious program identified: {threat['name']} with PID {threat['pid']}\")\n",
    "                terminate_process(threat['pid'])\n",
    "        time.sleep(check_interval) \n",
    "        \n",
    "def terminate_process(pid):\n",
    "    try:\n",
    "        p = psutil.Process(pid)\n",
    "        p.terminate()  # Send terminate signal (SIGTERM)\n",
    "        print(f\"Terminated process {pid}\")\n",
    "    except (psutil.NoSuchProcess, psutil.AccessDenied):\n",
    "        print(f\"Could not terminate process {pid}. Access denied or process does not exist.\")"
   ]
  },
