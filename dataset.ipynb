{
 "cells": [
  {
   "cell_type": "code",
   "execution_count": null,
   "metadata": {},
   "outputs": [],
   "source": [
    "# Step 1: Setup and Imports\n",
    "import requests\n",
    "import pandas as pd\n",
    "import openai\n",
    "from dotenv import load_dotenv\n",
    "import os\n",
    "\n",
    "# Load environment variables from .env file\n",
    "load_dotenv()\n",
    "\n",
    "# Retrieve API keys from environment variables\n",
    "VIRUSTOTAL_API_KEY = os.getenv(\"VIRUSTOTAL_API_KEY\")\n",
    "OPENAI_API_KEY = os.getenv(\"OPENAI_API_KEY\")"
   ]
  },
  {
   "cell_type": "code",
   "execution_count": null,
   "metadata": {},
   "outputs": [],
   "source": [
    "# Set the OpenAI API configuration\n",
    "openai.api_key = OPENAI_API_KEY\n",
    "\n",
    "# Step 2: Fetching Data from VirusTotal\n",
    "def fetch_malware_data(api_key, limit=1000):\n",
    "    url = 'https://www.virustotal.com/api/v3/files'\n",
    "    headers = {'x-apikey': api_key}\n",
    "    response = requests.get(url, headers=headers)\n",
    "    if response.status_code == 200:\n",
    "        return response.json()['data']\n",
    "    else:\n",
    "        raise Exception(\"Failed to fetch data: \" + response.text)\n",
    "\n",
    "malware_samples = fetch_malware_data(VIRUSTOTAL_API_KEY)\n",
    "\n"
   ]
  },
  {
   "cell_type": "code",
   "execution_count": null,
   "metadata": {},
   "outputs": [],
   "source": [
    "# Step 3: Data Preprocessing\n",
    "# Extract malware names and their descriptions\n",
    "data = []\n",
    "for sample in malware_samples:\n",
    "    name = sample['attributes']['meaningful_name']\n",
    "    malware_type = sample['attributes']['type_description']\n",
    "    data.append({'name': name, 'type': malware_type})\n",
    "\n",
    "df = pd.DataFrame(data)"
   ]
  },
  {
   "cell_type": "code",
   "execution_count": null,
   "metadata": {},
   "outputs": [],
   "source": [
    "# Step 4: Training the Model with OpenAI\n",
    "# Define the prompt template\n",
    "def create_prompt(name):\n",
    "    return f\"Given the file name '{name}', classify its malware type.\"\n",
    "\n",
    "# Create training data\n",
    "training_data = [create_prompt(row['name']) + f\" The type is: {row['type']}\" for index, row in df.iterrows()]\n",
    "\n",
    "# Train the model\n",
    "train_response = openai.FineTune.create(\n",
    "    training_file=training_data,\n",
    "    model=\"gpt-3.5-turbo\",\n",
    "    n_epochs=5\n",
    ")"
   ]
  },
  {
   "cell_type": "code",
   "execution_count": null,
   "metadata": {},
   "outputs": [],
   "source": [
    "# Step 5: Testing the Model\n",
    "# Test with a sample file name\n",
    "test_name = \"example_virus.exe\"\n",
    "prompt = create_prompt(test_name)\n",
    "response = openai.Completion.create(\n",
    "    model=\"gpt-3.5-turbo\",\n",
    "    prompt=prompt,\n",
    "    max_tokens=50\n",
    ")\n",
    "\n",
    "print(\"Predicted malware type:\", response['choices'][0]['text'].strip())\n",
    "\n"
   ]
  }
 ],
 "metadata": {
  "kernelspec": {
   "display_name": "base",
   "language": "python",
   "name": "python3"
  },
  "language_info": {
   "codemirror_mode": {
    "name": "ipython",
    "version": 3
   },
   "file_extension": ".py",
   "mimetype": "text/x-python",
   "name": "python",
   "nbconvert_exporter": "python",
   "pygments_lexer": "ipython3",
   "version": "3.10.12"
  }
 },
 "nbformat": 4,
 "nbformat_minor": 2
}
