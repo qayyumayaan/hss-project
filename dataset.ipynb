{
 "cells": [
  {
   "cell_type": "code",
   "execution_count": null,
   "metadata": {},
   "outputs": [],
   "source": [
    "# Step 1: Setup and Imports\n",
    "import requests\n",
    "import pandas as pd\n",
    "import openai\n",
    "from dotenv import load_dotenv\n",
    "import os\n",
    "\n",
    "# Load environment variables from .env file\n",
    "load_dotenv()\n",
    "\n",
    "# Retrieve API keys from environment variables\n",
    "VIRUSTOTAL_API_KEY = os.getenv(\"VIRUSTOTAL_API_KEY\")\n",
    "OPENAI_API_KEY = os.getenv(\"OPENAI_API_KEY\")"
   ]
  },
  {
   "cell_type": "code",
   "execution_count": null,
   "metadata": {},
   "outputs": [],
   "source": [
    "# Set the OpenAI API configuration\n",
    "openai.api_key = OPENAI_API_KEY\n",
    "\n",
    "# Step 2: Fetching Data from VirusTotal\n",
    "def fetch_malware_data(api_key, limit=1000):\n",
    "    url = 'https://www.virustotal.com/api/v3/files'\n",
    "    headers = {'x-apikey': api_key}\n",
    "    response = requests.get(url, headers=headers)\n",
    "    if response.status_code == 200:\n",
    "        return response.json()['data']\n",
    "    else:\n",
    "        raise Exception(\"Failed to fetch data: \" + response.text)\n",
    "\n",
    "malware_samples = fetch_malware_data(VIRUSTOTAL_API_KEY)\n",
    "\n"
   ]
  },
